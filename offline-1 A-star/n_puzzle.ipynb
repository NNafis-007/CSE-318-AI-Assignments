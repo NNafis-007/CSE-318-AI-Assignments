{
 "cells": [
  {
   "cell_type": "markdown",
   "id": "26253fb2",
   "metadata": {},
   "source": [
    "## counting inversion\n"
   ]
  },
  {
   "cell_type": "code",
   "execution_count": 188,
   "id": "9600f714",
   "metadata": {},
   "outputs": [],
   "source": [
    "def Count_Inversion(arr : list):\n",
    "    if(len(arr) <= 1):\n",
    "        return arr, 0\n",
    "    \n",
    "    start = 0\n",
    "    end = len(arr)\n",
    "    mid = (start + end) // 2\n",
    "    arr1, inv1 = Count_Inversion(arr[start:mid])\n",
    "    arr2, inv2 = Count_Inversion(arr[mid:end])\n",
    "    i, j, merge_inv = 0, 0, 0\n",
    "    curr_arr = []\n",
    "    while (i < len(arr1) and j < len(arr2)):\n",
    "        if(arr1[i] <= arr2[j]):\n",
    "            curr_arr.append(arr1[i])\n",
    "            i += 1\n",
    "        else:\n",
    "            merge_inv += len(arr1) - i\n",
    "            curr_arr.append(arr2[j])\n",
    "            j += 1\n",
    "    \n",
    "    #copy remaining array\n",
    "    if(i == len(arr1)):\n",
    "        while j < len(arr2):\n",
    "            curr_arr.append(arr2[j])\n",
    "            j += 1\n",
    "    else:\n",
    "        while i < len(arr1):\n",
    "            curr_arr.append(arr1[i])\n",
    "            i += 1\n",
    "\n",
    "\n",
    "    return curr_arr, (inv1 + inv2 + merge_inv)\n",
    "    \n"
   ]
  },
  {
   "cell_type": "markdown",
   "id": "bf801f1b",
   "metadata": {},
   "source": [
    "## check if solvable"
   ]
  },
  {
   "cell_type": "code",
   "execution_count": 189,
   "id": "4900ca7a",
   "metadata": {},
   "outputs": [],
   "source": [
    "def is_solvable(grid : list[list[int]]) -> bool:\n",
    "    k = len(grid)\n",
    "    flattened_grid = [item for arr in grid for item in arr]\n",
    "    blank_index = flattened_grid.index(0)\n",
    "    flattened_grid.pop(blank_index)\n",
    "    _, inversions = Count_Inversion(flattened_grid)\n",
    "    print(\"number of inversions : \", inversions)\n",
    "    \n",
    "    # k odd\n",
    "    if(k % 2):\n",
    "        return not(inversions % 2)\n",
    "    else:\n",
    "        blank_index_from_bottom = k - (blank_index // 2)\n",
    "        return bool((blank_index_from_bottom % 2) ^ (inversions % 2))\n",
    "\n",
    "            \n",
    "        \n",
    "\n",
    "    \n",
    "    \n",
    "\n"
   ]
  },
  {
   "cell_type": "markdown",
   "id": "a94cfa59",
   "metadata": {},
   "source": [
    "## create puzzle solver"
   ]
  },
  {
   "cell_type": "code",
   "execution_count": 190,
   "id": "32f16bfd",
   "metadata": {},
   "outputs": [],
   "source": [
    "class n_puzzle:\n",
    "    pass"
   ]
  },
  {
   "cell_type": "markdown",
   "id": "edbcfef0",
   "metadata": {},
   "source": [
    "## Take input\n"
   ]
  },
  {
   "cell_type": "code",
   "execution_count": 191,
   "id": "5ca73bd7",
   "metadata": {},
   "outputs": [
    {
     "name": "stdout",
     "output_type": "stream",
     "text": [
      "9, 3\n",
      "string is = 7 2 4 and corresponding array is [7, 2, 4]\n",
      "string is = 6 0 5 and corresponding array is [6, 0, 5]\n",
      "string is = 8 3 1 and corresponding array is [8, 3, 1]\n"
     ]
    }
   ],
   "source": [
    "k = int(input(\"enter grid size then the elements\"))\n",
    "n = k*k\n",
    "print(f\"{n}, {k}\")\n",
    "\n",
    "grid = []\n",
    "for i in range(k):\n",
    "    str = input(\"\")\n",
    "    arr = list(map(int, str.split(\" \")))\n",
    "    print(f'string is = {str} and corresponding array is {arr}')\n",
    "    grid.append(arr)\n",
    "\n",
    "\n",
    "    "
   ]
  },
  {
   "cell_type": "markdown",
   "id": "2cca14e0",
   "metadata": {},
   "source": [
    "## Different heuristics"
   ]
  },
  {
   "cell_type": "markdown",
   "id": "29bfb1a8",
   "metadata": {},
   "source": [
    "hamming distance"
   ]
  },
  {
   "cell_type": "code",
   "execution_count": 192,
   "id": "b745faad",
   "metadata": {},
   "outputs": [],
   "source": [
    "def hamming_distance(grid : list[list[int]]):\n",
    "    flattened_grid = [item for arr in grid for item in arr]\n",
    "    dist = 0\n",
    "    for i, num in enumerate(flattened_grid):\n",
    "        if(num != 0 and i + 1 != num):\n",
    "            dist += 1\n",
    "    \n",
    "    return dist"
   ]
  },
  {
   "cell_type": "markdown",
   "id": "99c10f1e",
   "metadata": {},
   "source": [
    "Manhattan Distance"
   ]
  },
  {
   "cell_type": "code",
   "execution_count": 193,
   "id": "865e20bb",
   "metadata": {},
   "outputs": [],
   "source": [
    "def manhattan_distance(grid : list[list[int]]):\n",
    "    dist = 0\n",
    "    k = len(grid)\n",
    "    for row, arr in enumerate(grid):\n",
    "        for col, num in enumerate(arr):\n",
    "            if(num == 0):\n",
    "                continue\n",
    "            target_row = (num - 1) // k\n",
    "            target_col = (num - 1) % k\n",
    "            curr_dist = abs(row - target_row) + abs(col - target_col)\n",
    "            dist += curr_dist\n",
    "            #print(f\"manhattan dist for {num} = {curr_dist}\")\n",
    "        \n",
    "    return dist"
   ]
  },
  {
   "cell_type": "markdown",
   "id": "96a94e08",
   "metadata": {},
   "source": [
    "Euclidean Distance"
   ]
  },
  {
   "cell_type": "code",
   "execution_count": 194,
   "id": "fddd9a99",
   "metadata": {},
   "outputs": [],
   "source": [
    "import math\n",
    "def euclidean_distance(grid : list[list[int]]):\n",
    "    dist = 0\n",
    "    k = len(grid)\n",
    "    for row, arr in enumerate(grid):\n",
    "        for col, num in enumerate(arr):\n",
    "            if(num == 0):\n",
    "                continue\n",
    "            target_row = (num - 1) // k\n",
    "            target_col = (num - 1) % k\n",
    "            curr_dist = (abs(row - target_row))**2 + (abs(col - target_col))**2\n",
    "            dist += math.sqrt(curr_dist)\n",
    "            #print(f\"euclidean dist squared for {num} = {curr_dist}\")\n",
    "\n",
    "    return dist.__round__(3)"
   ]
  },
  {
   "cell_type": "markdown",
   "id": "1f32e237",
   "metadata": {},
   "source": [
    "Linear Conflict\n"
   ]
  },
  {
   "cell_type": "code",
   "execution_count": 195,
   "id": "077fc6f3",
   "metadata": {},
   "outputs": [],
   "source": [
    "def row_conflicts(arr, row, num, num_index):\n",
    "    conflicts = 0\n",
    "    k = len(arr)\n",
    "    for i,elem in enumerate(arr):\n",
    "        target_row = (elem - 1) // k\n",
    "        if(row == target_row and num > elem and num_index < i):\n",
    "            conflicts += 1\n",
    "            #print(f\"conflict in row {row} bw {num} and {elem}\")\n",
    "    \n",
    "    return conflicts\n"
   ]
  },
  {
   "cell_type": "code",
   "execution_count": 196,
   "id": "2e9d3a5e",
   "metadata": {},
   "outputs": [],
   "source": [
    "def col_conflicts(arr, col, num, num_index):\n",
    "    conflicts = 0\n",
    "    k = len(arr)\n",
    "    for i, elem in enumerate(arr):\n",
    "        target_col = (elem - 1) % k\n",
    "        if(col == target_col and num > elem and num_index < i):\n",
    "            conflicts += 1\n",
    "            #print(f\"conflict in col {col} bw {num} and {elem}\")\n",
    "\n",
    "    return conflicts\n",
    "\n",
    "\n",
    "    "
   ]
  },
  {
   "cell_type": "code",
   "execution_count": null,
   "id": "028b4a10",
   "metadata": {},
   "outputs": [],
   "source": [
    "def linear_conflict(grid : list[list[int]]):\n",
    "    conflicts = 0\n",
    "    k = len(grid)\n",
    "    #row wise\n",
    "    for row, arr in enumerate(grid):\n",
    "        for col, num in enumerate(arr):\n",
    "            target_row = (num - 1) // k\n",
    "            target_col = (num - 1) % k\n",
    "            if(target_row == row):\n",
    "                conflicts += row_conflicts(arr, row, num, col)\n",
    "            if(target_col == col):\n",
    "                col_arr = [row[col] for row in grid]\n",
    "                conflicts += col_conflicts(col_arr, col, num, row)\n",
    "    \n",
    "    #print(f\"no of linear conflicts : {conflicts}\")\n",
    "    return manhattan_distance(grid) + (2 * conflicts)\n",
    "            \n",
    "            \n"
   ]
  },
  {
   "cell_type": "code",
   "execution_count": 198,
   "id": "cb506278",
   "metadata": {},
   "outputs": [
    {
     "name": "stdout",
     "output_type": "stream",
     "text": [
      "[[7, 2, 4], [6, 0, 5], [8, 3, 1]]\n",
      "no of linear conflicts : 1\n",
      "18\n"
     ]
    }
   ],
   "source": [
    "print(grid)\n",
    "print(linear_conflict(grid))"
   ]
  }
 ],
 "metadata": {
  "kernelspec": {
   "display_name": "Python 3",
   "language": "python",
   "name": "python3"
  },
  "language_info": {
   "codemirror_mode": {
    "name": "ipython",
    "version": 3
   },
   "file_extension": ".py",
   "mimetype": "text/x-python",
   "name": "python",
   "nbconvert_exporter": "python",
   "pygments_lexer": "ipython3",
   "version": "3.12.2"
  }
 },
 "nbformat": 4,
 "nbformat_minor": 5
}
