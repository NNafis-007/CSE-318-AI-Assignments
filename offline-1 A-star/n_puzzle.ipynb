{
 "cells": [
  {
   "cell_type": "markdown",
   "id": "26253fb2",
   "metadata": {},
   "source": [
    "## counting inversion\n"
   ]
  },
  {
   "cell_type": "code",
   "execution_count": 2,
   "id": "9600f714",
   "metadata": {},
   "outputs": [],
   "source": [
    "def Count_Inversion(arr : list):\n",
    "    if(len(arr) <= 1):\n",
    "        return arr, 0\n",
    "    \n",
    "    start = 0\n",
    "    end = len(arr)\n",
    "    mid = (start + end) // 2\n",
    "    arr1, inv1 = Count_Inversion(arr[start:mid])\n",
    "    arr2, inv2 = Count_Inversion(arr[mid:end])\n",
    "    i, j, merge_inv = 0, 0, 0\n",
    "    curr_arr = []\n",
    "    while (i < len(arr1) and j < len(arr2)):\n",
    "        if(arr1[i] <= arr2[j]):\n",
    "            curr_arr.append(arr1[i])\n",
    "            i += 1\n",
    "        else:\n",
    "            merge_inv += len(arr1) - i\n",
    "            curr_arr.append(arr2[j])\n",
    "            j += 1\n",
    "    \n",
    "    #copy remaining array\n",
    "    if(i == len(arr1)):\n",
    "        while j < len(arr2):\n",
    "            curr_arr.append(arr2[j])\n",
    "            j += 1\n",
    "    else:\n",
    "        while i < len(arr1):\n",
    "            curr_arr.append(arr1[i])\n",
    "            i += 1\n",
    "\n",
    "\n",
    "    return curr_arr, (inv1 + inv2 + merge_inv)\n",
    "    \n"
   ]
  },
  {
   "cell_type": "markdown",
   "id": "bf801f1b",
   "metadata": {},
   "source": [
    "## check if solvable"
   ]
  },
  {
   "cell_type": "code",
   "execution_count": 3,
   "id": "4900ca7a",
   "metadata": {},
   "outputs": [],
   "source": [
    "def is_solvable(grid : list[list[int]]) -> bool:\n",
    "    k = len(grid)\n",
    "    flattened_grid = [item for arr in grid for item in arr]\n",
    "    blank_index = flattened_grid.index(0)\n",
    "    flattened_grid.pop(blank_index)\n",
    "    _, inversions = Count_Inversion(flattened_grid)\n",
    "    print(\"number of inversions : \", inversions)\n",
    "    \n",
    "    # k odd\n",
    "    if(k % 2):\n",
    "        return not(inversions % 2)\n",
    "    else:\n",
    "        blank_index_from_bottom = k - (blank_index // 2)\n",
    "        return bool((blank_index_from_bottom % 2) ^ (inversions % 2))\n"
   ]
  },
  {
   "cell_type": "markdown",
   "id": "2cca14e0",
   "metadata": {},
   "source": [
    "## Different heuristics"
   ]
  },
  {
   "cell_type": "markdown",
   "id": "29bfb1a8",
   "metadata": {},
   "source": [
    "hamming distance"
   ]
  },
  {
   "cell_type": "code",
   "execution_count": 4,
   "id": "b745faad",
   "metadata": {},
   "outputs": [],
   "source": [
    "def hamming_distance(grid : list[list[int]]) -> int:\n",
    "    flattened_grid = [item for arr in grid for item in arr]\n",
    "    dist = 0\n",
    "    for i, num in enumerate(flattened_grid):\n",
    "        if(num != 0 and i + 1 != num):\n",
    "            dist += 1\n",
    "    \n",
    "    return dist"
   ]
  },
  {
   "cell_type": "markdown",
   "id": "99c10f1e",
   "metadata": {},
   "source": [
    "Manhattan Distance"
   ]
  },
  {
   "cell_type": "code",
   "execution_count": 5,
   "id": "865e20bb",
   "metadata": {},
   "outputs": [],
   "source": [
    "def manhattan_distance(grid : list[list[int]]) -> int:\n",
    "    dist = 0\n",
    "    k = len(grid)\n",
    "    for row, arr in enumerate(grid):\n",
    "        for col, num in enumerate(arr):\n",
    "            if(num == 0):\n",
    "                continue\n",
    "            target_row = (num - 1) // k\n",
    "            target_col = (num - 1) % k\n",
    "            curr_dist = abs(row - target_row) + abs(col - target_col)\n",
    "            dist += curr_dist\n",
    "            #print(f\"manhattan dist for {num} = {curr_dist}\")\n",
    "        \n",
    "    return dist"
   ]
  },
  {
   "cell_type": "markdown",
   "id": "96a94e08",
   "metadata": {},
   "source": [
    "Euclidean Distance"
   ]
  },
  {
   "cell_type": "code",
   "execution_count": 6,
   "id": "fddd9a99",
   "metadata": {},
   "outputs": [],
   "source": [
    "import math\n",
    "def euclidean_distance(grid : list[list[int]]) -> int:\n",
    "    dist = 0\n",
    "    k = len(grid)\n",
    "    for row, arr in enumerate(grid):\n",
    "        for col, num in enumerate(arr):\n",
    "            if(num == 0):\n",
    "                continue\n",
    "            target_row = (num - 1) // k\n",
    "            target_col = (num - 1) % k\n",
    "            curr_dist = (abs(row - target_row))**2 + (abs(col - target_col))**2\n",
    "            dist += math.sqrt(curr_dist)\n",
    "            #print(f\"euclidean dist squared for {num} = {curr_dist}\")\n",
    "\n",
    "    return dist.__round__(3)"
   ]
  },
  {
   "cell_type": "markdown",
   "id": "1f32e237",
   "metadata": {},
   "source": [
    "Linear Conflict\n"
   ]
  },
  {
   "cell_type": "code",
   "execution_count": 7,
   "id": "028b4a10",
   "metadata": {},
   "outputs": [],
   "source": [
    "def row_conflicts(arr, row, num, num_index):\n",
    "    conflicts = 0\n",
    "    k = len(arr)\n",
    "    for i,elem in enumerate(arr):\n",
    "        target_row = (elem - 1) // k\n",
    "        if(row == target_row and num > elem and num_index < i):\n",
    "            conflicts += 1\n",
    "            #print(f\"conflict in row {row} bw {num} and {elem}\")\n",
    "    \n",
    "    return conflicts\n",
    "\n",
    "def col_conflicts(arr, col, num, num_index):\n",
    "    conflicts = 0\n",
    "    k = len(arr)\n",
    "    for i, elem in enumerate(arr):\n",
    "        target_col = (elem - 1) % k\n",
    "        if(col == target_col and num > elem and num_index < i):\n",
    "            conflicts += 1\n",
    "            #print(f\"conflict in col {col} bw {num} and {elem}\")\n",
    "\n",
    "    return conflicts\n",
    "\n",
    "def linear_conflict(grid : list[list[int]]) -> int:\n",
    "    conflicts = 0\n",
    "    k = len(grid)\n",
    "    #row wise\n",
    "    for row, arr in enumerate(grid):\n",
    "        for col, num in enumerate(arr):\n",
    "            target_row = (num - 1) // k\n",
    "            target_col = (num - 1) % k\n",
    "            if(target_row == row):\n",
    "                conflicts += row_conflicts(arr, row, num, col)\n",
    "            if(target_col == col):\n",
    "                col_arr = [row[col] for row in grid]\n",
    "                conflicts += col_conflicts(col_arr, col, num, row)\n",
    "    \n",
    "    #print(f\"no of linear conflicts : {conflicts}\")\n",
    "    return manhattan_distance(grid) + (2 * conflicts)\n",
    "            \n",
    "            \n"
   ]
  },
  {
   "cell_type": "markdown",
   "id": "462284c7",
   "metadata": {},
   "source": [
    "## create puzzle class"
   ]
  },
  {
   "cell_type": "code",
   "execution_count": 8,
   "id": "c070932c",
   "metadata": {},
   "outputs": [],
   "source": [
    "from typing import Callable\n",
    "import copy\n",
    "\n",
    "class N_Puzzle:\n",
    "    def __init__(self, initial_grid : list[list[int]], parent : 'N_Puzzle' = None):\n",
    "        self.grid = initial_grid\n",
    "        self.moves_count = 0\n",
    "        self.parent = parent\n",
    "        self.k = len(initial_grid)\n",
    "        self.priority = 0\n",
    "\n",
    "    def get_blank_index(self):\n",
    "        for i, row in enumerate(self.grid):\n",
    "            for j, val in enumerate(row):\n",
    "                if val == 0:\n",
    "                   return i,j\n",
    "\n",
    "    def generate_config(self):\n",
    "        row_blank, col_blank = self.get_blank_index()\n",
    "        valid_configs = []\n",
    "        #up move allowed\n",
    "        if(row_blank > 0):\n",
    "            new_grid_up = copy.deepcopy(self.grid)\n",
    "            target_num = new_grid_up[row_blank-1][col_blank]\n",
    "            new_grid_up[row_blank][col_blank] = target_num\n",
    "            new_grid_up[row_blank-1][col_blank] = 0\n",
    "            valid_configs.append(new_grid_up)\n",
    "\n",
    "        #down move allowed\n",
    "        if(row_blank < (self.k - 1)):\n",
    "            new_grid_down = copy.deepcopy(self.grid)\n",
    "            target_num = new_grid_down[row_blank + 1][col_blank]\n",
    "            new_grid_down[row_blank][col_blank] = target_num\n",
    "            new_grid_down[row_blank + 1][col_blank] = 0\n",
    "            valid_configs.append(new_grid_down)\n",
    "            \n",
    "\n",
    "        #left move allowed\n",
    "        if(col_blank > 0):\n",
    "            new_grid_left = copy.deepcopy(self.grid)\n",
    "            target_num = new_grid_left[row_blank][col_blank - 1]\n",
    "            new_grid_left[row_blank][col_blank] = target_num\n",
    "            new_grid_left[row_blank][col_blank - 1] = 0\n",
    "            valid_configs.append(new_grid_left)\n",
    "            \n",
    "        #right move allowed\n",
    "        if(col_blank < (self.k - 1)):\n",
    "            new_grid_right = copy.deepcopy(self.grid)\n",
    "            target_num = new_grid_right[row_blank][col_blank + 1]\n",
    "            new_grid_right[row_blank][col_blank] = target_num\n",
    "            new_grid_right[row_blank][col_blank + 1] = 0\n",
    "            valid_configs.append(new_grid_right)\n",
    "        \n",
    "        return valid_configs\n",
    "    \n",
    "    def is_correct_config(self) -> bool:\n",
    "        flattened_grid = [item for row in self.grid for item in row]\n",
    "        for i, val in enumerate(flattened_grid):\n",
    "            if(i + 1 != val and val != 0):\n",
    "                return False\n",
    "        \n",
    "        return True\n",
    "    \n",
    "    def is_solvable(self) -> bool:\n",
    "        \n",
    "        k = len(self.grid)\n",
    "        flattened_grid = [item for arr in self.grid for item in arr]\n",
    "        blank_index = flattened_grid.index(0)\n",
    "        flattened_grid.pop(blank_index)\n",
    "        _, inversions = Count_Inversion(flattened_grid)\n",
    "        #print(\"number of inversions : \", inversions)\n",
    "        \n",
    "        # k odd\n",
    "        if(k % 2):\n",
    "            return not(inversions % 2)\n",
    "        else:\n",
    "            blank_index_from_bottom = k - (blank_index // 2)\n",
    "            return bool((blank_index_from_bottom % 2) ^ (inversions % 2))\n",
    "\n",
    "    \n",
    "    def __str__(self):\n",
    "        string = ''\n",
    "        for rows in self.grid:    \n",
    "            for elem in rows:\n",
    "                if(elem == 0):\n",
    "                    string += \"- \"\n",
    "                    continue\n",
    "                string += str(elem) + \" \"\n",
    "            string += '\\n' \n",
    "        \n",
    "        return string\n",
    "            \n"
   ]
  },
  {
   "cell_type": "markdown",
   "id": "ca18383e",
   "metadata": {},
   "source": [
    "## create a priority queue"
   ]
  },
  {
   "cell_type": "code",
   "execution_count": 9,
   "id": "9132cd84",
   "metadata": {},
   "outputs": [],
   "source": [
    "import heapq\n",
    "import itertools\n",
    "\n",
    "class PriorityQueue:\n",
    "    def __init__(self):\n",
    "        self.heap = []\n",
    "        self.counter = itertools.count()  #to distinguish if priority same\n",
    "\n",
    "    def push(self, priority : int, item : 'N_Puzzle'):\n",
    "        count = next(self.counter)\n",
    "        # Add a tuple: (priority, count, item)\n",
    "        heapq.heappush(self.heap, (priority, count, item))\n",
    "\n",
    "    def pop(self) -> tuple[int, 'N_Puzzle']:\n",
    "        if self.heap:\n",
    "            priority, count, item = heapq.heappop(self.heap)\n",
    "            return priority, item\n",
    "        else:\n",
    "            raise IndexError(\"pop from an empty priority queue\")\n",
    "    \n",
    "    def size(self):\n",
    "        return len(self.heap)\n",
    "\n",
    "        "
   ]
  },
  {
   "cell_type": "markdown",
   "id": "9b229f42",
   "metadata": {},
   "source": [
    "## Take input"
   ]
  },
  {
   "cell_type": "code",
   "execution_count": 10,
   "id": "b4b7f3b1",
   "metadata": {},
   "outputs": [
    {
     "name": "stdout",
     "output_type": "stream",
     "text": [
      "9, 3\n",
      "string is = 1 2 3 and corresponding array is [1, 2, 3]\n",
      "string is = 0 4 6 and corresponding array is [0, 4, 6]\n",
      "string is = 7 5 8 and corresponding array is [7, 5, 8]\n"
     ]
    }
   ],
   "source": [
    "k = int(input(\"enter matrix size then the elements\"))\n",
    "n = k*k\n",
    "print(f\"{n}, {k}\")\n",
    "\n",
    "matrix = []\n",
    "for i in range(k):\n",
    "    input_str = input(\"\")\n",
    "    arr = list(map(int, input_str.split(\" \")))\n",
    "    print(f'string is = {input_str} and corresponding array is {arr}')\n",
    "    matrix.append(arr)\n"
   ]
  },
  {
   "cell_type": "markdown",
   "id": "60e4b181",
   "metadata": {},
   "source": [
    "## create inital config"
   ]
  },
  {
   "cell_type": "code",
   "execution_count": 11,
   "id": "2d3c8813",
   "metadata": {},
   "outputs": [
    {
     "name": "stdout",
     "output_type": "stream",
     "text": [
      "1 2 3 \n",
      "- 4 6 \n",
      "7 5 8 \n",
      "\n",
      "1 2 3 \n",
      "4 - 6 \n",
      "7 5 8 \n",
      "\n",
      "1 2 3 \n",
      "4 5 6 \n",
      "7 - 8 \n",
      "\n",
      "1 2 3 \n",
      "4 5 6 \n",
      "7 8 - \n",
      "\n",
      "SOLVED PUZZLE in 3 moves\n"
     ]
    }
   ],
   "source": [
    "initial_state = N_Puzzle(matrix)\n",
    "if not(initial_state.is_solvable()):\n",
    "    print(\"Unsolvable puzzle\")\n",
    "\n",
    "else:\n",
    "    pqueue = PriorityQueue()\n",
    "    pqueue.push(0, initial_state)\n",
    "\n",
    "    heuristics = [hamming_distance, manhattan_distance, euclidean_distance, linear_conflict]\n",
    "    h_n = heuristics[2]\n",
    "\n",
    "    # open_list : list[N_Puzzle] = []\n",
    "    closed_list : list[N_Puzzle] = []\n",
    "\n",
    "    while pqueue.size() != 0:\n",
    "        _, curr_state = pqueue.pop()\n",
    "        closed_list.append(curr_state)\n",
    "        print(curr_state)\n",
    "        if(curr_state.is_correct_config()):\n",
    "            break\n",
    "        \n",
    "        possible_configs = curr_state.generate_config()\n",
    "        for config in possible_configs:\n",
    "            nei_puzzle = N_Puzzle(config)\n",
    "            nei_puzzle.moves_count = curr_state.moves_count + 1\n",
    "            nei_puzzle.priority = nei_puzzle.moves_count + h_n(nei_puzzle.grid)\n",
    "            nei_puzzle.parent = curr_state\n",
    "            if nei_puzzle not in closed_list:\n",
    "                pqueue.push(nei_puzzle.priority, nei_puzzle)\n",
    "\n",
    "\n",
    "    print(f\"SOLVED PUZZLE in {curr_state.moves_count} moves\")\n",
    "\n"
   ]
  },
  {
   "cell_type": "code",
   "execution_count": 12,
   "id": "87412aa2",
   "metadata": {},
   "outputs": [],
   "source": [
    "states_path = []\n",
    "while curr_state.parent is not None:\n",
    "    states_path.append(curr_state)\n",
    "    curr_state = curr_state.parent\n",
    "\n",
    "states_path.append(curr_state)\n",
    "states_path = states_path[::-1]"
   ]
  },
  {
   "cell_type": "code",
   "execution_count": 13,
   "id": "d4a48a71",
   "metadata": {},
   "outputs": [
    {
     "name": "stdout",
     "output_type": "stream",
     "text": [
      "Closed List :  4\n",
      "open list :  7\n"
     ]
    }
   ],
   "source": [
    "print(\"Closed List : \", len(closed_list))\n",
    "print(\"open list : \", pqueue.size())"
   ]
  },
  {
   "cell_type": "code",
   "execution_count": null,
   "id": "14df9342",
   "metadata": {},
   "outputs": [],
   "source": []
  },
  {
   "cell_type": "code",
   "execution_count": 14,
   "id": "dc55d720",
   "metadata": {},
   "outputs": [
    {
     "name": "stdout",
     "output_type": "stream",
     "text": [
      "1 2 3 \n",
      "- 4 6 \n",
      "7 5 8 \n",
      "\n",
      "1 2 3 \n",
      "4 - 6 \n",
      "7 5 8 \n",
      "\n",
      "1 2 3 \n",
      "4 5 6 \n",
      "7 - 8 \n",
      "\n",
      "1 2 3 \n",
      "4 5 6 \n",
      "7 8 - \n",
      "\n"
     ]
    }
   ],
   "source": [
    "for states in states_path:\n",
    "    print(states)"
   ]
  }
 ],
 "metadata": {
  "kernelspec": {
   "display_name": "Python 3",
   "language": "python",
   "name": "python3"
  },
  "language_info": {
   "codemirror_mode": {
    "name": "ipython",
    "version": 3
   },
   "file_extension": ".py",
   "mimetype": "text/x-python",
   "name": "python",
   "nbconvert_exporter": "python",
   "pygments_lexer": "ipython3",
   "version": "3.12.2"
  }
 },
 "nbformat": 4,
 "nbformat_minor": 5
}
