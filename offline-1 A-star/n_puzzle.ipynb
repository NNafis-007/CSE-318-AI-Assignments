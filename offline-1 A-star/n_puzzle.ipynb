{
 "cells": [
  {
   "cell_type": "markdown",
   "id": "26253fb2",
   "metadata": {},
   "source": [
    "## counting inversion\n"
   ]
  },
  {
   "cell_type": "code",
   "execution_count": 49,
   "id": "9600f714",
   "metadata": {},
   "outputs": [],
   "source": [
    "def Count_Inversion(arr : list):\n",
    "    if(len(arr) <= 1):\n",
    "        return arr, 0\n",
    "    \n",
    "    start = 0\n",
    "    end = len(arr)\n",
    "    mid = (start + end) // 2\n",
    "    arr1, inv1 = Count_Inversion(arr[start:mid])\n",
    "    arr2, inv2 = Count_Inversion(arr[mid:end])\n",
    "    i, j, merge_inv = 0, 0, 0\n",
    "    curr_arr = []\n",
    "    while (i < len(arr1) and j < len(arr2)):\n",
    "        if(arr1[i] <= arr2[j]):\n",
    "            curr_arr.append(arr1[i])\n",
    "            i += 1\n",
    "        else:\n",
    "            merge_inv += len(arr1) - i\n",
    "            curr_arr.append(arr2[j])\n",
    "            j += 1\n",
    "    \n",
    "    #copy remaining array\n",
    "    if(i == len(arr1)):\n",
    "        while j < len(arr2):\n",
    "            curr_arr.append(arr2[j])\n",
    "            j += 1\n",
    "    else:\n",
    "        while i < len(arr1):\n",
    "            curr_arr.append(arr1[i])\n",
    "            i += 1\n",
    "\n",
    "\n",
    "    return curr_arr, (inv1 + inv2 + merge_inv)\n",
    "    \n"
   ]
  },
  {
   "cell_type": "markdown",
   "id": "a94cfa59",
   "metadata": {},
   "source": [
    "## create puzzle solver"
   ]
  },
  {
   "cell_type": "code",
   "execution_count": null,
   "id": "32f16bfd",
   "metadata": {},
   "outputs": [],
   "source": [
    "class n_puzzle:\n",
    "    pass"
   ]
  },
  {
   "cell_type": "markdown",
   "id": "edbcfef0",
   "metadata": {},
   "source": [
    "## Take input\n"
   ]
  },
  {
   "cell_type": "code",
   "execution_count": 57,
   "id": "5ca73bd7",
   "metadata": {},
   "outputs": [
    {
     "name": "stdout",
     "output_type": "stream",
     "text": [
      "16, 4\n",
      "string is = 3 9 1 15 and corresponding array is [3, 9, 1, 15]\n",
      "string is = 14 11 4 6 and corresponding array is [14, 11, 4, 6]\n",
      "string is = 13 0 10 12 and corresponding array is [13, 0, 10, 12]\n",
      "string is = 2 7 8 5 and corresponding array is [2, 7, 8, 5]\n"
     ]
    }
   ],
   "source": [
    "k = int(input(\"enter grid size then the elements\"))\n",
    "n = k*k\n",
    "print(f\"{n}, {k}\")\n",
    "\n",
    "grid = []\n",
    "for i in range(k):\n",
    "    str = input(\"\")\n",
    "    arr = list(map(int, str.split(\" \")))\n",
    "    print(f'string is = {str} and corresponding array is {arr}')\n",
    "    grid.append(arr)\n",
    "\n",
    "\n",
    "    "
   ]
  },
  {
   "cell_type": "markdown",
   "id": "20c9a495",
   "metadata": {},
   "source": [
    "## check if solvable"
   ]
  },
  {
   "cell_type": "code",
   "execution_count": 55,
   "id": "4900ca7a",
   "metadata": {},
   "outputs": [],
   "source": [
    "def is_solvable(grid : list[list[int]]) -> bool:\n",
    "    k = len(grid)\n",
    "    flattened_grid = [item for arr in grid for item in arr]\n",
    "    blank_index = flattened_grid.index(0)\n",
    "    flattened_grid.pop(blank_index)\n",
    "    _, inversions = Count_Inversion(flattened_grid)\n",
    "    print(\"number of inversions : \", inversions)\n",
    "    \n",
    "    # k odd\n",
    "    if(k % 2):\n",
    "        return not(inversions % 2)\n",
    "    else:\n",
    "        blank_index_from_bottom = k - (blank_index // 2)\n",
    "        return bool((blank_index_from_bottom % 2) ^ (inversions % 2))\n",
    "\n",
    "            \n",
    "        \n",
    "\n",
    "    \n",
    "    \n",
    "\n"
   ]
  },
  {
   "cell_type": "code",
   "execution_count": 58,
   "id": "e86600c4",
   "metadata": {},
   "outputs": [
    {
     "name": "stdout",
     "output_type": "stream",
     "text": [
      "[[3, 9, 1, 15], [14, 11, 4, 6], [13, 0, 10, 12], [2, 7, 8, 5]]\n",
      "number of inversions :  56\n",
      "False\n"
     ]
    }
   ],
   "source": [
    "print(grid)\n",
    "print(is_solvable(grid))"
   ]
  }
 ],
 "metadata": {
  "kernelspec": {
   "display_name": "Python 3",
   "language": "python",
   "name": "python3"
  },
  "language_info": {
   "codemirror_mode": {
    "name": "ipython",
    "version": 3
   },
   "file_extension": ".py",
   "mimetype": "text/x-python",
   "name": "python",
   "nbconvert_exporter": "python",
   "pygments_lexer": "ipython3",
   "version": "3.12.2"
  }
 },
 "nbformat": 4,
 "nbformat_minor": 5
}
