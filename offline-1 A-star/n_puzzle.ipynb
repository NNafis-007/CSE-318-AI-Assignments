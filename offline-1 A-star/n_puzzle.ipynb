{
 "cells": [
  {
   "cell_type": "markdown",
   "id": "26253fb2",
   "metadata": {},
   "source": [
    "## counting inversion\n"
   ]
  },
  {
   "cell_type": "code",
   "execution_count": null,
   "id": "9600f714",
   "metadata": {},
   "outputs": [],
   "source": [
    "def Count_Inversion(arr : list):\n",
    "    if(len(arr) <= 1):\n",
    "        return arr, 0\n",
    "    \n",
    "    start = 0\n",
    "    end = len(arr)\n",
    "    mid = (start + end) // 2\n",
    "    arr1, inv1 = Count_Inversion(arr[start:mid])\n",
    "    arr2, inv2 = Count_Inversion(arr[mid:end])\n",
    "    i, j, merge_inv = 0, 0, 0\n",
    "    curr_arr = []\n",
    "    while (i < len(arr1) and j < len(arr2)):\n",
    "        if(arr1[i] <= arr2[j]):\n",
    "            curr_arr.append(arr1[i])\n",
    "            i += 1\n",
    "        else:\n",
    "            merge_inv += len(arr1) - i\n",
    "            curr_arr.append(arr2[j])\n",
    "            j += 1\n",
    "    \n",
    "    #copy remaining array\n",
    "    if(i == len(arr1)):\n",
    "        while j < len(arr2):\n",
    "            curr_arr.append(arr2[j])\n",
    "            j += 1\n",
    "    else:\n",
    "        while i < len(arr1):\n",
    "            curr_arr.append(arr1[i])\n",
    "            i += 1\n",
    "\n",
    "\n",
    "    return curr_arr, (inv1 + inv2 + merge_inv)\n",
    "    \n"
   ]
  },
  {
   "cell_type": "code",
   "execution_count": 11,
   "id": "2f3b3811",
   "metadata": {},
   "outputs": [
    {
     "name": "stdout",
     "output_type": "stream",
     "text": [
      "[10, 10, 10]\n"
     ]
    }
   ],
   "source": [
    "arr = [10,10,10]\n",
    "print(arr)"
   ]
  },
  {
   "cell_type": "code",
   "execution_count": 12,
   "id": "a6009092",
   "metadata": {},
   "outputs": [
    {
     "name": "stdout",
     "output_type": "stream",
     "text": [
      "([10, 10, 10], 0)\n"
     ]
    }
   ],
   "source": [
    "print(Count_Inversion(arr))"
   ]
  }
 ],
 "metadata": {
  "kernelspec": {
   "display_name": "Python 3",
   "language": "python",
   "name": "python3"
  },
  "language_info": {
   "codemirror_mode": {
    "name": "ipython",
    "version": 3
   },
   "file_extension": ".py",
   "mimetype": "text/x-python",
   "name": "python",
   "nbconvert_exporter": "python",
   "pygments_lexer": "ipython3",
   "version": "3.12.2"
  }
 },
 "nbformat": 4,
 "nbformat_minor": 5
}
